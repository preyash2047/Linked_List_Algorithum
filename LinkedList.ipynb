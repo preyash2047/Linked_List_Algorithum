{
  "nbformat": 4,
  "nbformat_minor": 0,
  "metadata": {
    "colab": {
      "name": "LinkedList.ipynb",
      "provenance": [],
      "collapsed_sections": [],
      "toc_visible": true
    },
    "kernelspec": {
      "name": "python3",
      "display_name": "Python 3"
    },
    "language_info": {
      "name": "python"
    }
  },
  "cells": [
    {
      "cell_type": "markdown",
      "metadata": {
        "id": "EGbfaRLv8wkE"
      },
      "source": [
        "![image.png](data:image/png;base64,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)"
      ]
    },
    {
      "cell_type": "code",
      "metadata": {
        "colab": {
          "base_uri": "https://localhost:8080/"
        },
        "id": "ESzRDGwWwSoO",
        "outputId": "df0cc7ea-407e-4db7-d681-ca9dc553f079"
      },
      "source": [
        "class Node:\n",
        "  def __init__(self,data):\n",
        "    self.data = {\n",
        "        \"data\" : data,\n",
        "        \"next_node\" : None\n",
        "    }\n",
        "\n",
        "class LinkedList:\n",
        "  def __init__(self, element):\n",
        "    #initalizing the linked list\n",
        "    self.hadeNode = Node(\"head\")\n",
        "\n",
        "    #appending the first node\n",
        "    obj = Node(element)\n",
        "    self.hadeNode.data[\"next_node\"] = Node(element)\n",
        "    self.node = self.hadeNode\n",
        "    self.node.data[\"next_node\"] = obj\n",
        "\n",
        "    #setting the default node for further operation\n",
        "    self.node = obj\n",
        "\n",
        "  def addNode(self, element):\n",
        "    obj = Node(element)\n",
        "    self.node.data[\"next_node\"] = obj\n",
        "    self.node = obj\n",
        "\n",
        "  def printLL(self):\n",
        "    current = self.hadeNode\n",
        "    while(current):\n",
        "      print(current.data[\"data\"])\n",
        "      current = current.data[\"next_node\"]\n",
        "\n",
        "obj = LinkedList(1)\n",
        "for i in range(2,10):\n",
        "  obj.addNode(f\"I am Node Data {i}\")\n",
        "obj.printLL()"
      ],
      "execution_count": 10,
      "outputs": [
        {
          "output_type": "stream",
          "text": [
            "head\n",
            "1\n",
            "I am Node Data 2\n",
            "I am Node Data 3\n",
            "I am Node Data 4\n",
            "I am Node Data 5\n",
            "I am Node Data 6\n",
            "I am Node Data 7\n",
            "I am Node Data 8\n",
            "I am Node Data 9\n"
          ],
          "name": "stdout"
        }
      ]
    },
    {
      "cell_type": "code",
      "metadata": {
        "id": "IZyO244hYR6X"
      },
      "source": [
        ""
      ],
      "execution_count": null,
      "outputs": []
    }
  ]
}